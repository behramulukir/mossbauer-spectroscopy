{
 "cells": [
  {
   "cell_type": "markdown",
   "metadata": {},
   "source": [
    "LFIRE\n",
    "\n",
    "[Efficient Bayesian Experimental Design for Implicit Models](https://arxiv.org/pdf/1810.09912)\n",
    "\n",
    "[Likelihood-free inference by ratio estimation](https://arxiv.org/pdf/1611.10242)"
   ]
  },
  {
   "cell_type": "code",
   "execution_count": 3,
   "metadata": {},
   "outputs": [],
   "source": [
    "import numpy as np\n",
    "import pandas as pd\n",
    "import matplotlib.pyplot as plt\n",
    "import math\n",
    "import scipy as sp\n",
    "import seaborn as sns\n"
   ]
  },
  {
   "cell_type": "code",
   "execution_count": 7,
   "metadata": {},
   "outputs": [
    {
     "data": {
      "text/plain": [
       "NpzFile 'deathmodel_dim1.npz' with keys: d_opt, y_obs, r_obs, b_obs, utilobj..."
      ]
     },
     "execution_count": 7,
     "metadata": {},
     "output_type": "execute_result"
    }
   ],
   "source": [
    "data = np.load(\"deathmodel_dim1.npz\")\n",
    "pp = data['prior_samples']\n",
    "y_obs = data[\"y_obs\"]\n",
    "data"
   ]
  },
  {
   "cell_type": "code",
   "execution_count": 8,
   "metadata": {},
   "outputs": [
    {
     "data": {
      "text/plain": [
       "array([-0.11787313,  1.86144438,  0.71366439, -0.23071868, -0.30981594,\n",
       "        1.1045227 ,  0.33941354, -2.55045906,  0.97120102,  0.94105936,\n",
       "        0.4749081 , -1.05627786,  0.8638922 , -1.1484625 ,  0.14331132,\n",
       "       -0.97214856, -0.23124119, -0.77707132, -0.69939149, -0.57946777,\n",
       "       -0.3292966 ,  1.76984807, -1.07164481, -1.14818803, -1.17271639,\n",
       "       -0.689312  , -1.12456081,  1.46953364,  0.40651471,  0.39716386,\n",
       "       -0.33345102, -0.8627878 ,  0.65672772,  0.59640279, -0.99658698,\n",
       "       -0.59925434,  0.91893636, -0.17190573,  0.53283175, -0.19478741,\n",
       "        0.35135621,  0.14189807, -0.07470962,  1.14438031, -0.28129772,\n",
       "       -0.53282035,  0.92269151,  1.08448903,  1.1465455 , -1.62425663,\n",
       "        0.09493123, -0.95705667,  0.85833265, -0.08410504,  0.3133833 ,\n",
       "       -2.20190522,  0.37759434, -1.24722612,  0.32850762, -1.01551933,\n",
       "       -1.63177652, -0.7567066 , -1.54401011,  0.50184894,  0.4031805 ,\n",
       "        0.26270501,  1.16096726,  0.86823772,  0.17553018,  0.17075762,\n",
       "       -0.32587914, -0.41233562, -2.58609963,  0.00961034, -0.73443709,\n",
       "       -0.34847072,  0.78933264,  0.57337596,  0.06757485,  0.16121655,\n",
       "        0.47915374, -0.11037278,  0.90926586,  0.13877333,  0.65149129,\n",
       "       -0.0489188 ,  0.95054334,  0.03222942,  0.9017985 ,  1.14514709,\n",
       "       -0.85311989,  0.45930605, -0.38405921, -0.55669527,  1.50727895,\n",
       "       -0.51451818, -0.73794795,  0.40212479, -0.24963013,  0.66414885])"
      ]
     },
     "execution_count": 8,
     "metadata": {},
     "output_type": "execute_result"
    }
   ],
   "source": [
    "#True theta value assumption made for the sake of simulation\n",
    "true_theta = 0.5\n",
    "\n",
    "#Sampling lots of prior theta values from the given prior distribution\n",
    "theta_prior_samples = sp.stats.norm.rvs(0,1,size=100)\n",
    "\n",
    "\n",
    "\n",
    "theta_prior_samples"
   ]
  },
  {
   "cell_type": "code",
   "execution_count": null,
   "metadata": {},
   "outputs": [],
   "source": []
  }
 ],
 "metadata": {
  "kernelspec": {
   "display_name": "Python 3",
   "language": "python",
   "name": "python3"
  },
  "language_info": {
   "codemirror_mode": {
    "name": "ipython",
    "version": 3
   },
   "file_extension": ".py",
   "mimetype": "text/x-python",
   "name": "python",
   "nbconvert_exporter": "python",
   "pygments_lexer": "ipython3",
   "version": "3.11.1"
  }
 },
 "nbformat": 4,
 "nbformat_minor": 2
}
