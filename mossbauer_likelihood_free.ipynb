{
 "cells": [
  {
   "cell_type": "markdown",
   "metadata": {},
   "source": [
    "LFIRE\n",
    "\n",
    "[Efficient Bayesian Experimental Design for Implicit Models](https://arxiv.org/pdf/1810.09912)\n",
    "\n",
    "[Likelihood-free inference by ratio estimation](https://arxiv.org/pdf/1611.10242)"
   ]
  },
  {
   "cell_type": "code",
   "execution_count": 1,
   "metadata": {},
   "outputs": [],
   "source": [
    "import numpy as np\n",
    "import pandas as pd\n",
    "import matplotlib.pyplot as plt\n",
    "import math\n",
    "import scipy as sp\n",
    "import seaborn as sns\n"
   ]
  },
  {
   "cell_type": "code",
   "execution_count": 2,
   "metadata": {},
   "outputs": [
    {
     "data": {
      "text/plain": [
       "NpzFile 'deathmodel_dim1.npz' with keys: d_opt, y_obs, r_obs, b_obs, utilobj..."
      ]
     },
     "execution_count": 2,
     "metadata": {},
     "output_type": "execute_result"
    }
   ],
   "source": [
    "data = np.load(\"deathmodel_dim1.npz\")\n",
    "pp = data['prior_samples']\n",
    "y_obs = data[\"y_obs\"]\n",
    "data"
   ]
  },
  {
   "cell_type": "code",
   "execution_count": 3,
   "metadata": {},
   "outputs": [
    {
     "data": {
      "text/plain": [
       "array([-0.58196256,  0.39538354, -0.21808343,  0.19456922,  0.67764806,\n",
       "       -0.33442919,  0.74542425,  0.04733211, -0.14998026,  0.28023439,\n",
       "       -0.17558073,  0.33880205, -0.00553748, -0.05495615,  0.12827177,\n",
       "        0.64273127, -0.57739727, -0.79360133, -0.77204657, -1.28721327,\n",
       "        0.89985853,  1.25449158, -0.02677479,  1.0590545 , -0.0610058 ,\n",
       "       -1.84452501,  0.90575919,  1.33986316,  1.46453887,  0.12885711,\n",
       "       -1.12763088,  2.16885458,  1.84880027,  0.64073772,  1.96001498,\n",
       "       -0.63366441,  1.86842778,  1.46245292,  0.9902182 , -0.20289468,\n",
       "        2.03160321, -0.61079813,  0.0249167 ,  0.29526217,  1.01810722,\n",
       "       -0.53602378,  0.26537878, -2.19910065,  1.20776018, -0.43712777,\n",
       "        0.05481935,  0.45346205,  1.16798629,  1.04586903,  1.07855028,\n",
       "       -1.19599884, -0.01844453, -0.03203053, -0.9219183 ,  1.59456229,\n",
       "        0.39866392, -0.99848069,  1.2270882 ,  0.64496909,  0.56808113,\n",
       "        0.55476264,  1.56040431, -0.27331293,  0.20000756, -0.31497045,\n",
       "       -0.98744238,  0.35520527, -0.67553856, -0.64922636, -0.86118477,\n",
       "       -0.14972958, -0.20374709, -0.36073444, -1.91694727, -0.35555053,\n",
       "       -1.3765845 , -1.72798951, -0.26680342, -0.90045365, -1.2959611 ,\n",
       "       -0.24857644, -0.53030145,  0.01801832,  1.19029407,  0.65942039,\n",
       "        0.32685429,  1.19190264, -0.63861396,  1.09016572, -0.06806013,\n",
       "       -0.0913353 , -0.47746751,  0.42553376,  1.60839163, -0.06965912])"
      ]
     },
     "execution_count": 3,
     "metadata": {},
     "output_type": "execute_result"
    }
   ],
   "source": [
    "#True theta value assumption made for the sake of simulation\n",
    "true_theta = 0.5\n",
    "\n",
    "#Sampling lots of prior theta values from the given prior distribution\n",
    "theta_prior_samples = sp.stats.norm.rvs(0,1,size=100)\n",
    "\n",
    "\n",
    "\n",
    "theta_prior_samples"
   ]
  },
  {
   "cell_type": "code",
   "execution_count": 8,
   "metadata": {},
   "outputs": [
    {
     "name": "stdout",
     "output_type": "stream",
     "text": [
      "<function DeathModel.generate_data.<locals>.<lambda> at 0x1475d2980>\n",
      "45\n"
     ]
    }
   ],
   "source": [
    "import numpy as np\n",
    "import warnings\n",
    "\n",
    "class Simulator:\n",
    "\n",
    "    \"\"\"\n",
    "    Simulator base class for simulating data from different models.\n",
    "    \"\"\"\n",
    "\n",
    "    def __init__(self, truth):\n",
    "        \"\"\"\n",
    "        truth: Ground truth that is used in the observe() method. Needs to be same dimensions and shape as the model parameters.\n",
    "        \"\"\"\n",
    "        self.truth = np.array(truth)\n",
    "\n",
    "    def summary(self, Y):\n",
    "\n",
    "        \"\"\"\n",
    "        Method to take summary statistics of the simulated data. Default is simply powers from 1 to 4 of the data values; this is only applicable to scalars.\n",
    "        Y: Data simulated from the model.\n",
    "        \"\"\"\n",
    "\n",
    "        Y_psi = list()\n",
    "        for y in Y:\n",
    "            # could change 5 to any kind of degree\n",
    "            Y_psi.append([y ** i for i in range(1, 5)])\n",
    "        return np.array(Y_psi)\n",
    "\n",
    "    def generate_data(self, d, p):\n",
    "\n",
    "        \"\"\"\n",
    "        Child class specific method to simulate data from the model.\n",
    "        d: design variable\n",
    "        p: model parameters\n",
    "        \"\"\"\n",
    "\n",
    "        pass\n",
    "\n",
    "    def sample_data(self, d, p, num=None):\n",
    "\n",
    "        \"\"\"\n",
    "        Sample data from the model, based on the generate_data() method. The point of this method is to select if to sample from the likelihood (if num!=None and len(p)==1) or marginal (if num==None and len(p) > 1).\n",
    "        d: design variable\n",
    "        p: model parameters\n",
    "        num: number of samples required from likelihood\n",
    "        \"\"\"\n",
    "\n",
    "        # sample from an array of params\n",
    "        if num==None:\n",
    "            y = np.array([self.generate_data(d, pi) for pi in p])\n",
    "        # sample several times using the same params:\n",
    "        else:\n",
    "            y = np.array([self.generate_data(d, p) for i in range(num)])\n",
    "        return y\n",
    "\n",
    "    def observe(self, d, num=1):\n",
    "\n",
    "        \"\"\"\n",
    "        Observe some data according to a ground truth.\n",
    "        d: design variable (optimal)\n",
    "        num: number of data points to observe at optimal design\n",
    "        \"\"\"\n",
    "\n",
    "        y = np.array([self.generate_data(d, self.truth) for i in range(num)])\n",
    "        return y\n",
    "\n",
    "\n",
    "class DeathModel(Simulator):\n",
    "\n",
    "    \"\"\"\n",
    "    Class to simulate data according to the Death Model.\n",
    "    \"\"\"\n",
    "\n",
    "    def __init__(self, truth, S0):\n",
    "\n",
    "        \"\"\"\n",
    "        truth: ground truth, scalar\n",
    "        S0: starting population of death model\n",
    "        \"\"\"\n",
    "\n",
    "        super(DeathModel, self).__init__(truth)\n",
    "        self.S0 = S0\n",
    "\n",
    "    def summary(self, Y):\n",
    "\n",
    "        Y_psi = list()\n",
    "        for arr in Y:\n",
    "            if np.array(arr).shape == ():\n",
    "                tmp = [arr, 0]\n",
    "                #tmp = [arr ** i for i in range(1,5)]\n",
    "            else:\n",
    "                tmp = [arr[0], 0]\n",
    "                #tmp = [arr[0] ** i for i in range(1, 5)]\n",
    "            Y_psi.append(tmp)\n",
    "        return np.array(Y_psi)\n",
    "\n",
    "    def generate_data(self, d, p):\n",
    "\n",
    "        \"\"\"\n",
    "        d: design (scalar)\n",
    "        p: model parameter (scalar)\n",
    "        \"\"\"\n",
    "\n",
    "        inf_prob = lambda b, t: 1 - np.exp(-b*t)\n",
    "        print(inf_prob)\n",
    "        inf_num = np.random.binomial(self.S0, inf_prob(p, d))\n",
    "        return inf_num\n",
    "    \n",
    "\n",
    "model = DeathModel(1.5, 50)\n",
    "\n",
    "print(model.generate_data(1,3))"
   ]
  },
  {
   "cell_type": "code",
   "execution_count": null,
   "metadata": {},
   "outputs": [],
   "source": []
  }
 ],
 "metadata": {
  "kernelspec": {
   "display_name": "Python 3",
   "language": "python",
   "name": "python3"
  },
  "language_info": {
   "codemirror_mode": {
    "name": "ipython",
    "version": 3
   },
   "file_extension": ".py",
   "mimetype": "text/x-python",
   "name": "python",
   "nbconvert_exporter": "python",
   "pygments_lexer": "ipython3",
   "version": "3.11.1"
  }
 },
 "nbformat": 4,
 "nbformat_minor": 2
}
